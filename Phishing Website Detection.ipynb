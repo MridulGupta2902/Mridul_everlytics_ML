{
  "cells": [
    {
      "cell_type": "markdown",
      "metadata": {
        "colab_type": "text",
        "id": "WTVY5lz4vJQM"
      },
      "source": [
        "# **Phishing_Website_Detection by ML**"
      ]
    },
    {
      "cell_type": "markdown",
      "metadata": {
        "colab_type": "text",
        "id": "_cJA-yD-vNcS"
      },
      "source": [
        "## **1. Introduction:**\n",
        "In this we will be using ML Algorithm(Random_Forest) to detect Phishing_website."
      ]
    },
    {
      "cell_type": "markdown",
      "metadata": {
        "colab_type": "text",
        "id": "NOq598WCqIol"
      },
      "source": [
        "## **2. Import_Data:**"
      ]
    },
    {
      "cell_type": "code",
      "execution_count": 337,
      "metadata": {
        "colab": {
          "base_uri": "https://localhost:8080/",
          "height": 70
        },
        "colab_type": "code",
        "id": "C297HhYulXcb",
        "outputId": "d6e2a9df-586e-4192-b8ec-1e7b7025c0c3"
      },
      "outputs": [],
      "source": [
        "#Packages\n",
        "import pandas as pd\n",
        "import numpy as np\n",
        "import seaborn as sns\n",
        "import matplotlib.pyplot as plt"
      ]
    },
    {
      "cell_type": "code",
      "execution_count": 338,
      "metadata": {
        "colab": {
          "base_uri": "https://localhost:8080/",
          "height": 217
        },
        "colab_type": "code",
        "id": "fVPglpaf4REa",
        "outputId": "eef4a4ca-e12d-4cd3-e011-20376fc752a2"
      },
      "outputs": [
        {
          "data": {
            "text/html": [
              "<div>\n",
              "<style scoped>\n",
              "    .dataframe tbody tr th:only-of-type {\n",
              "        vertical-align: middle;\n",
              "    }\n",
              "\n",
              "    .dataframe tbody tr th {\n",
              "        vertical-align: top;\n",
              "    }\n",
              "\n",
              "    .dataframe thead th {\n",
              "        text-align: right;\n",
              "    }\n",
              "</style>\n",
              "<table border=\"1\" class=\"dataframe\">\n",
              "  <thead>\n",
              "    <tr style=\"text-align: right;\">\n",
              "      <th></th>\n",
              "      <th>having_IP_Address</th>\n",
              "      <th>URL_Length</th>\n",
              "      <th>Shortining_Service</th>\n",
              "      <th>having_At_Symbol</th>\n",
              "      <th>double_slash_redirecting</th>\n",
              "      <th>Prefix_Suffix</th>\n",
              "      <th>having_Sub_Domain</th>\n",
              "      <th>SSLfinal_State</th>\n",
              "      <th>Domain_registeration_length</th>\n",
              "      <th>Favicon</th>\n",
              "      <th>...</th>\n",
              "      <th>popUpWidnow</th>\n",
              "      <th>Iframe</th>\n",
              "      <th>age_of_domain</th>\n",
              "      <th>DNSRecord</th>\n",
              "      <th>web_traffic</th>\n",
              "      <th>Page_Rank</th>\n",
              "      <th>Google_Index</th>\n",
              "      <th>Links_pointing_to_page</th>\n",
              "      <th>Statistical_report</th>\n",
              "      <th>Result</th>\n",
              "    </tr>\n",
              "  </thead>\n",
              "  <tbody>\n",
              "    <tr>\n",
              "      <th>0</th>\n",
              "      <td>1</td>\n",
              "      <td>1</td>\n",
              "      <td>0</td>\n",
              "      <td>0</td>\n",
              "      <td>1</td>\n",
              "      <td>-1</td>\n",
              "      <td>-1</td>\n",
              "      <td>-1</td>\n",
              "      <td>0</td>\n",
              "      <td>0</td>\n",
              "      <td>...</td>\n",
              "      <td>0</td>\n",
              "      <td>0</td>\n",
              "      <td>-1</td>\n",
              "      <td>1</td>\n",
              "      <td>-1</td>\n",
              "      <td>-1</td>\n",
              "      <td>0</td>\n",
              "      <td>1</td>\n",
              "      <td>1</td>\n",
              "      <td>1</td>\n",
              "    </tr>\n",
              "    <tr>\n",
              "      <th>1</th>\n",
              "      <td>0</td>\n",
              "      <td>1</td>\n",
              "      <td>0</td>\n",
              "      <td>0</td>\n",
              "      <td>0</td>\n",
              "      <td>-1</td>\n",
              "      <td>0</td>\n",
              "      <td>1</td>\n",
              "      <td>0</td>\n",
              "      <td>0</td>\n",
              "      <td>...</td>\n",
              "      <td>0</td>\n",
              "      <td>0</td>\n",
              "      <td>-1</td>\n",
              "      <td>1</td>\n",
              "      <td>0</td>\n",
              "      <td>-1</td>\n",
              "      <td>0</td>\n",
              "      <td>1</td>\n",
              "      <td>0</td>\n",
              "      <td>1</td>\n",
              "    </tr>\n",
              "    <tr>\n",
              "      <th>2</th>\n",
              "      <td>0</td>\n",
              "      <td>0</td>\n",
              "      <td>0</td>\n",
              "      <td>0</td>\n",
              "      <td>0</td>\n",
              "      <td>-1</td>\n",
              "      <td>-1</td>\n",
              "      <td>-1</td>\n",
              "      <td>0</td>\n",
              "      <td>0</td>\n",
              "      <td>...</td>\n",
              "      <td>0</td>\n",
              "      <td>0</td>\n",
              "      <td>0</td>\n",
              "      <td>1</td>\n",
              "      <td>1</td>\n",
              "      <td>-1</td>\n",
              "      <td>0</td>\n",
              "      <td>0</td>\n",
              "      <td>1</td>\n",
              "      <td>1</td>\n",
              "    </tr>\n",
              "    <tr>\n",
              "      <th>3</th>\n",
              "      <td>0</td>\n",
              "      <td>0</td>\n",
              "      <td>0</td>\n",
              "      <td>0</td>\n",
              "      <td>0</td>\n",
              "      <td>-1</td>\n",
              "      <td>-1</td>\n",
              "      <td>-1</td>\n",
              "      <td>1</td>\n",
              "      <td>0</td>\n",
              "      <td>...</td>\n",
              "      <td>0</td>\n",
              "      <td>0</td>\n",
              "      <td>-1</td>\n",
              "      <td>1</td>\n",
              "      <td>1</td>\n",
              "      <td>-1</td>\n",
              "      <td>0</td>\n",
              "      <td>-1</td>\n",
              "      <td>0</td>\n",
              "      <td>1</td>\n",
              "    </tr>\n",
              "    <tr>\n",
              "      <th>4</th>\n",
              "      <td>0</td>\n",
              "      <td>0</td>\n",
              "      <td>1</td>\n",
              "      <td>0</td>\n",
              "      <td>0</td>\n",
              "      <td>-1</td>\n",
              "      <td>1</td>\n",
              "      <td>1</td>\n",
              "      <td>0</td>\n",
              "      <td>0</td>\n",
              "      <td>...</td>\n",
              "      <td>1</td>\n",
              "      <td>0</td>\n",
              "      <td>-1</td>\n",
              "      <td>1</td>\n",
              "      <td>0</td>\n",
              "      <td>-1</td>\n",
              "      <td>0</td>\n",
              "      <td>1</td>\n",
              "      <td>0</td>\n",
              "      <td>0</td>\n",
              "    </tr>\n",
              "  </tbody>\n",
              "</table>\n",
              "<p>5 rows × 31 columns</p>\n",
              "</div>"
            ],
            "text/plain": [
              "   having_IP_Address  URL_Length  Shortining_Service  having_At_Symbol  \\\n",
              "0                  1           1                   0                 0   \n",
              "1                  0           1                   0                 0   \n",
              "2                  0           0                   0                 0   \n",
              "3                  0           0                   0                 0   \n",
              "4                  0           0                   1                 0   \n",
              "\n",
              "   double_slash_redirecting  Prefix_Suffix  having_Sub_Domain  SSLfinal_State  \\\n",
              "0                         1             -1                 -1              -1   \n",
              "1                         0             -1                  0               1   \n",
              "2                         0             -1                 -1              -1   \n",
              "3                         0             -1                 -1              -1   \n",
              "4                         0             -1                  1               1   \n",
              "\n",
              "   Domain_registeration_length  Favicon  ...  popUpWidnow  Iframe  \\\n",
              "0                            0        0  ...            0       0   \n",
              "1                            0        0  ...            0       0   \n",
              "2                            0        0  ...            0       0   \n",
              "3                            1        0  ...            0       0   \n",
              "4                            0        0  ...            1       0   \n",
              "\n",
              "   age_of_domain  DNSRecord  web_traffic  Page_Rank  Google_Index  \\\n",
              "0             -1          1           -1         -1             0   \n",
              "1             -1          1            0         -1             0   \n",
              "2              0          1            1         -1             0   \n",
              "3             -1          1            1         -1             0   \n",
              "4             -1          1            0         -1             0   \n",
              "\n",
              "   Links_pointing_to_page  Statistical_report  Result  \n",
              "0                       1                   1       1  \n",
              "1                       1                   0       1  \n",
              "2                       0                   1       1  \n",
              "3                      -1                   0       1  \n",
              "4                       1                   0       0  \n",
              "\n",
              "[5 rows x 31 columns]"
            ]
          },
          "execution_count": 338,
          "metadata": {},
          "output_type": "execute_result"
        }
      ],
      "source": [
        "#Import_data\n",
        "df = pd.read_csv('Phishing_data.csv')\n",
        "df.head()"
      ]
    },
    {
      "cell_type": "markdown",
      "metadata": {
        "colab_type": "text",
        "id": "lMXihulvMcAj"
      },
      "source": [
        "## **3. Knowing_the_Data**\n",
        "We will be showing univariant details of each column and get to know which are more relevant to our solution approach."
      ]
    },
    {
      "cell_type": "code",
      "execution_count": 339,
      "metadata": {
        "colab": {
          "base_uri": "https://localhost:8080/",
          "height": 33
        },
        "colab_type": "code",
        "id": "4hARIXyGKorc",
        "outputId": "bc223e7f-4529-4ebe-e7d0-7eef13e691c0"
      },
      "outputs": [
        {
          "data": {
            "text/plain": [
              "(2456, 31)"
            ]
          },
          "execution_count": 339,
          "metadata": {},
          "output_type": "execute_result"
        }
      ],
      "source": [
        "#Checking the shape of the dataset\n",
        "df.shape"
      ]
    },
    {
      "cell_type": "code",
      "execution_count": 340,
      "metadata": {
        "colab": {
          "base_uri": "https://localhost:8080/",
          "height": 100
        },
        "colab_type": "code",
        "id": "Q3uBm9ObMyaG",
        "outputId": "551b4c2e-8b33-4a6a-c3e9-f168066915de"
      },
      "outputs": [
        {
          "data": {
            "text/plain": [
              "Index(['having_IP_Address', 'URL_Length', 'Shortining_Service',\n",
              "       'having_At_Symbol', 'double_slash_redirecting', 'Prefix_Suffix',\n",
              "       'having_Sub_Domain', 'SSLfinal_State', 'Domain_registeration_length',\n",
              "       'Favicon', 'port', 'HTTPS_token', 'Request_URL', 'URL_of_Anchor',\n",
              "       'Links_in_tags', 'SFH', 'Submitting_to_email', 'Abnormal_URL',\n",
              "       'Redirect', 'on_mouseover', 'RightClick', 'popUpWidnow', 'Iframe',\n",
              "       'age_of_domain', 'DNSRecord', 'web_traffic', 'Page_Rank',\n",
              "       'Google_Index', 'Links_pointing_to_page', 'Statistical_report',\n",
              "       'Result'],\n",
              "      dtype='object')"
            ]
          },
          "execution_count": 340,
          "metadata": {},
          "output_type": "execute_result"
        }
      ],
      "source": [
        "#Listing the features of the dataset\n",
        "df.columns"
      ]
    },
    {
      "cell_type": "code",
      "execution_count": 341,
      "metadata": {
        "colab": {
          "base_uri": "https://localhost:8080/",
          "height": 433
        },
        "colab_type": "code",
        "id": "gBMqupCMM74V",
        "outputId": "0e530eb9-699d-4ece-800d-8e853fc9d6ca"
      },
      "outputs": [
        {
          "name": "stdout",
          "output_type": "stream",
          "text": [
            "<class 'pandas.core.frame.DataFrame'>\n",
            "RangeIndex: 2456 entries, 0 to 2455\n",
            "Data columns (total 31 columns):\n",
            " #   Column                       Non-Null Count  Dtype\n",
            "---  ------                       --------------  -----\n",
            " 0   having_IP_Address            2456 non-null   int64\n",
            " 1   URL_Length                   2456 non-null   int64\n",
            " 2   Shortining_Service           2456 non-null   int64\n",
            " 3   having_At_Symbol             2456 non-null   int64\n",
            " 4   double_slash_redirecting     2456 non-null   int64\n",
            " 5   Prefix_Suffix                2456 non-null   int64\n",
            " 6   having_Sub_Domain            2456 non-null   int64\n",
            " 7   SSLfinal_State               2456 non-null   int64\n",
            " 8   Domain_registeration_length  2456 non-null   int64\n",
            " 9   Favicon                      2456 non-null   int64\n",
            " 10  port                         2456 non-null   int64\n",
            " 11  HTTPS_token                  2456 non-null   int64\n",
            " 12  Request_URL                  2456 non-null   int64\n",
            " 13  URL_of_Anchor                2456 non-null   int64\n",
            " 14  Links_in_tags                2456 non-null   int64\n",
            " 15  SFH                          2456 non-null   int64\n",
            " 16  Submitting_to_email          2456 non-null   int64\n",
            " 17  Abnormal_URL                 2456 non-null   int64\n",
            " 18  Redirect                     2456 non-null   int64\n",
            " 19  on_mouseover                 2456 non-null   int64\n",
            " 20  RightClick                   2456 non-null   int64\n",
            " 21  popUpWidnow                  2456 non-null   int64\n",
            " 22  Iframe                       2456 non-null   int64\n",
            " 23  age_of_domain                2456 non-null   int64\n",
            " 24  DNSRecord                    2456 non-null   int64\n",
            " 25  web_traffic                  2456 non-null   int64\n",
            " 26  Page_Rank                    2456 non-null   int64\n",
            " 27  Google_Index                 2456 non-null   int64\n",
            " 28  Links_pointing_to_page       2456 non-null   int64\n",
            " 29  Statistical_report           2456 non-null   int64\n",
            " 30  Result                       2456 non-null   int64\n",
            "dtypes: int64(31)\n",
            "memory usage: 594.9 KB\n"
          ]
        }
      ],
      "source": [
        "#Information about the dataset\n",
        "df.info()"
      ]
    },
    {
      "cell_type": "markdown",
      "metadata": {
        "colab_type": "text",
        "id": "CfrxhE3pNfiw"
      },
      "source": [
        "## **4. Data_visualisation**\n",
        "We are drawing heat map using correlation matrix that tells us about how each column is dependent on one another and deleting similar columns."
      ]
    },
    {
      "cell_type": "code",
      "execution_count": 342,
      "metadata": {},
      "outputs": [
        {
          "data": {
            "text/plain": [
              "['Shortining_Service',\n",
              " 'double_slash_redirecting',\n",
              " 'SFH',\n",
              " 'Redirect',\n",
              " 'popUpWidnow']"
            ]
          },
          "execution_count": 342,
          "metadata": {},
          "output_type": "execute_result"
        }
      ],
      "source": [
        "# Create correlation matrix\n",
        "corr_matrix = df.corr().abs()\n",
        "\n",
        "# Select upper triangle of correlation matrix\n",
        "upper = corr_matrix.where(np.triu(np.ones(corr_matrix.shape), k=1).astype(bool))\n",
        "\n",
        "# Find index of feature columns with correlation greater than 0.90\n",
        "to_drop = [column for column in upper.columns if any(upper[column] > 0.90)]\n",
        "#name of drop columns\n",
        "to_drop"
      ]
    },
    {
      "cell_type": "code",
      "execution_count": 343,
      "metadata": {},
      "outputs": [
        {
          "data": {
            "image/png": "[encoded data removed]",
            "text/plain": [
              "<Figure size 1080x936 with 2 Axes>"
            ]
          },
          "metadata": {
            "needs_background": "light"
          },
          "output_type": "display_data"
        }
      ],
      "source": [
        "#Correlation heatmap\n",
        "\n",
        "plt.figure(figsize=(15,13))\n",
        "sns.heatmap(df.corr(),cmap=\"YlGnBu\")\n",
        "plt.show()"
      ]
    },
    {
      "cell_type": "code",
      "execution_count": 344,
      "metadata": {},
      "outputs": [
        {
          "data": {
            "text/html": [
              "<div>\n",
              "<style scoped>\n",
              "    .dataframe tbody tr th:only-of-type {\n",
              "        vertical-align: middle;\n",
              "    }\n",
              "\n",
              "    .dataframe tbody tr th {\n",
              "        vertical-align: top;\n",
              "    }\n",
              "\n",
              "    .dataframe thead th {\n",
              "        text-align: right;\n",
              "    }\n",
              "</style>\n",
              "<table border=\"1\" class=\"dataframe\">\n",
              "  <thead>\n",
              "    <tr style=\"text-align: right;\">\n",
              "      <th></th>\n",
              "      <th>having_IP_Address</th>\n",
              "      <th>URL_Length</th>\n",
              "      <th>having_At_Symbol</th>\n",
              "      <th>Prefix_Suffix</th>\n",
              "      <th>having_Sub_Domain</th>\n",
              "      <th>SSLfinal_State</th>\n",
              "      <th>Domain_registeration_length</th>\n",
              "      <th>Favicon</th>\n",
              "      <th>port</th>\n",
              "      <th>HTTPS_token</th>\n",
              "      <th>...</th>\n",
              "      <th>RightClick</th>\n",
              "      <th>Iframe</th>\n",
              "      <th>age_of_domain</th>\n",
              "      <th>DNSRecord</th>\n",
              "      <th>web_traffic</th>\n",
              "      <th>Page_Rank</th>\n",
              "      <th>Google_Index</th>\n",
              "      <th>Links_pointing_to_page</th>\n",
              "      <th>Statistical_report</th>\n",
              "      <th>Result</th>\n",
              "    </tr>\n",
              "  </thead>\n",
              "  <tbody>\n",
              "    <tr>\n",
              "      <th>0</th>\n",
              "      <td>1</td>\n",
              "      <td>1</td>\n",
              "      <td>0</td>\n",
              "      <td>-1</td>\n",
              "      <td>-1</td>\n",
              "      <td>-1</td>\n",
              "      <td>0</td>\n",
              "      <td>0</td>\n",
              "      <td>0</td>\n",
              "      <td>1</td>\n",
              "      <td>...</td>\n",
              "      <td>0</td>\n",
              "      <td>0</td>\n",
              "      <td>-1</td>\n",
              "      <td>1</td>\n",
              "      <td>-1</td>\n",
              "      <td>-1</td>\n",
              "      <td>0</td>\n",
              "      <td>1</td>\n",
              "      <td>1</td>\n",
              "      <td>1</td>\n",
              "    </tr>\n",
              "    <tr>\n",
              "      <th>1</th>\n",
              "      <td>0</td>\n",
              "      <td>1</td>\n",
              "      <td>0</td>\n",
              "      <td>-1</td>\n",
              "      <td>0</td>\n",
              "      <td>1</td>\n",
              "      <td>0</td>\n",
              "      <td>0</td>\n",
              "      <td>0</td>\n",
              "      <td>1</td>\n",
              "      <td>...</td>\n",
              "      <td>0</td>\n",
              "      <td>0</td>\n",
              "      <td>-1</td>\n",
              "      <td>1</td>\n",
              "      <td>0</td>\n",
              "      <td>-1</td>\n",
              "      <td>0</td>\n",
              "      <td>1</td>\n",
              "      <td>0</td>\n",
              "      <td>1</td>\n",
              "    </tr>\n",
              "    <tr>\n",
              "      <th>2</th>\n",
              "      <td>0</td>\n",
              "      <td>0</td>\n",
              "      <td>0</td>\n",
              "      <td>-1</td>\n",
              "      <td>-1</td>\n",
              "      <td>-1</td>\n",
              "      <td>0</td>\n",
              "      <td>0</td>\n",
              "      <td>0</td>\n",
              "      <td>1</td>\n",
              "      <td>...</td>\n",
              "      <td>0</td>\n",
              "      <td>0</td>\n",
              "      <td>0</td>\n",
              "      <td>1</td>\n",
              "      <td>1</td>\n",
              "      <td>-1</td>\n",
              "      <td>0</td>\n",
              "      <td>0</td>\n",
              "      <td>1</td>\n",
              "      <td>1</td>\n",
              "    </tr>\n",
              "    <tr>\n",
              "      <th>3</th>\n",
              "      <td>0</td>\n",
              "      <td>0</td>\n",
              "      <td>0</td>\n",
              "      <td>-1</td>\n",
              "      <td>-1</td>\n",
              "      <td>-1</td>\n",
              "      <td>1</td>\n",
              "      <td>0</td>\n",
              "      <td>0</td>\n",
              "      <td>1</td>\n",
              "      <td>...</td>\n",
              "      <td>0</td>\n",
              "      <td>0</td>\n",
              "      <td>-1</td>\n",
              "      <td>1</td>\n",
              "      <td>1</td>\n",
              "      <td>-1</td>\n",
              "      <td>0</td>\n",
              "      <td>-1</td>\n",
              "      <td>0</td>\n",
              "      <td>1</td>\n",
              "    </tr>\n",
              "    <tr>\n",
              "      <th>4</th>\n",
              "      <td>0</td>\n",
              "      <td>0</td>\n",
              "      <td>0</td>\n",
              "      <td>-1</td>\n",
              "      <td>1</td>\n",
              "      <td>1</td>\n",
              "      <td>0</td>\n",
              "      <td>0</td>\n",
              "      <td>0</td>\n",
              "      <td>0</td>\n",
              "      <td>...</td>\n",
              "      <td>0</td>\n",
              "      <td>0</td>\n",
              "      <td>-1</td>\n",
              "      <td>1</td>\n",
              "      <td>0</td>\n",
              "      <td>-1</td>\n",
              "      <td>0</td>\n",
              "      <td>1</td>\n",
              "      <td>0</td>\n",
              "      <td>0</td>\n",
              "    </tr>\n",
              "    <tr>\n",
              "      <th>...</th>\n",
              "      <td>...</td>\n",
              "      <td>...</td>\n",
              "      <td>...</td>\n",
              "      <td>...</td>\n",
              "      <td>...</td>\n",
              "      <td>...</td>\n",
              "      <td>...</td>\n",
              "      <td>...</td>\n",
              "      <td>...</td>\n",
              "      <td>...</td>\n",
              "      <td>...</td>\n",
              "      <td>...</td>\n",
              "      <td>...</td>\n",
              "      <td>...</td>\n",
              "      <td>...</td>\n",
              "      <td>...</td>\n",
              "      <td>...</td>\n",
              "      <td>...</td>\n",
              "      <td>...</td>\n",
              "      <td>...</td>\n",
              "      <td>...</td>\n",
              "    </tr>\n",
              "    <tr>\n",
              "      <th>2451</th>\n",
              "      <td>0</td>\n",
              "      <td>-1</td>\n",
              "      <td>0</td>\n",
              "      <td>0</td>\n",
              "      <td>0</td>\n",
              "      <td>-1</td>\n",
              "      <td>1</td>\n",
              "      <td>0</td>\n",
              "      <td>0</td>\n",
              "      <td>0</td>\n",
              "      <td>...</td>\n",
              "      <td>0</td>\n",
              "      <td>0</td>\n",
              "      <td>-1</td>\n",
              "      <td>0</td>\n",
              "      <td>1</td>\n",
              "      <td>0</td>\n",
              "      <td>0</td>\n",
              "      <td>0</td>\n",
              "      <td>0</td>\n",
              "      <td>1</td>\n",
              "    </tr>\n",
              "    <tr>\n",
              "      <th>2452</th>\n",
              "      <td>0</td>\n",
              "      <td>-1</td>\n",
              "      <td>1</td>\n",
              "      <td>0</td>\n",
              "      <td>0</td>\n",
              "      <td>0</td>\n",
              "      <td>1</td>\n",
              "      <td>0</td>\n",
              "      <td>0</td>\n",
              "      <td>0</td>\n",
              "      <td>...</td>\n",
              "      <td>0</td>\n",
              "      <td>0</td>\n",
              "      <td>0</td>\n",
              "      <td>1</td>\n",
              "      <td>-1</td>\n",
              "      <td>0</td>\n",
              "      <td>0</td>\n",
              "      <td>1</td>\n",
              "      <td>0</td>\n",
              "      <td>1</td>\n",
              "    </tr>\n",
              "    <tr>\n",
              "      <th>2453</th>\n",
              "      <td>0</td>\n",
              "      <td>-1</td>\n",
              "      <td>0</td>\n",
              "      <td>0</td>\n",
              "      <td>0</td>\n",
              "      <td>1</td>\n",
              "      <td>0</td>\n",
              "      <td>0</td>\n",
              "      <td>0</td>\n",
              "      <td>0</td>\n",
              "      <td>...</td>\n",
              "      <td>0</td>\n",
              "      <td>0</td>\n",
              "      <td>-1</td>\n",
              "      <td>0</td>\n",
              "      <td>1</td>\n",
              "      <td>0</td>\n",
              "      <td>0</td>\n",
              "      <td>0</td>\n",
              "      <td>0</td>\n",
              "      <td>0</td>\n",
              "    </tr>\n",
              "    <tr>\n",
              "      <th>2454</th>\n",
              "      <td>0</td>\n",
              "      <td>-1</td>\n",
              "      <td>0</td>\n",
              "      <td>0</td>\n",
              "      <td>-1</td>\n",
              "      <td>-1</td>\n",
              "      <td>1</td>\n",
              "      <td>0</td>\n",
              "      <td>0</td>\n",
              "      <td>0</td>\n",
              "      <td>...</td>\n",
              "      <td>0</td>\n",
              "      <td>0</td>\n",
              "      <td>1</td>\n",
              "      <td>0</td>\n",
              "      <td>-1</td>\n",
              "      <td>-1</td>\n",
              "      <td>0</td>\n",
              "      <td>0</td>\n",
              "      <td>0</td>\n",
              "      <td>1</td>\n",
              "    </tr>\n",
              "    <tr>\n",
              "      <th>2455</th>\n",
              "      <td>0</td>\n",
              "      <td>-1</td>\n",
              "      <td>0</td>\n",
              "      <td>0</td>\n",
              "      <td>0</td>\n",
              "      <td>1</td>\n",
              "      <td>0</td>\n",
              "      <td>0</td>\n",
              "      <td>0</td>\n",
              "      <td>0</td>\n",
              "      <td>...</td>\n",
              "      <td>0</td>\n",
              "      <td>0</td>\n",
              "      <td>-1</td>\n",
              "      <td>0</td>\n",
              "      <td>1</td>\n",
              "      <td>1</td>\n",
              "      <td>0</td>\n",
              "      <td>0</td>\n",
              "      <td>0</td>\n",
              "      <td>0</td>\n",
              "    </tr>\n",
              "  </tbody>\n",
              "</table>\n",
              "<p>2456 rows × 26 columns</p>\n",
              "</div>"
            ],
            "text/plain": [
              "      having_IP_Address  URL_Length  having_At_Symbol  Prefix_Suffix  \\\n",
              "0                     1           1                 0             -1   \n",
              "1                     0           1                 0             -1   \n",
              "2                     0           0                 0             -1   \n",
              "3                     0           0                 0             -1   \n",
              "4                     0           0                 0             -1   \n",
              "...                 ...         ...               ...            ...   \n",
              "2451                  0          -1                 0              0   \n",
              "2452                  0          -1                 1              0   \n",
              "2453                  0          -1                 0              0   \n",
              "2454                  0          -1                 0              0   \n",
              "2455                  0          -1                 0              0   \n",
              "\n",
              "      having_Sub_Domain  SSLfinal_State  Domain_registeration_length  Favicon  \\\n",
              "0                    -1              -1                            0        0   \n",
              "1                     0               1                            0        0   \n",
              "2                    -1              -1                            0        0   \n",
              "3                    -1              -1                            1        0   \n",
              "4                     1               1                            0        0   \n",
              "...                 ...             ...                          ...      ...   \n",
              "2451                  0              -1                            1        0   \n",
              "2452                  0               0                            1        0   \n",
              "2453                  0               1                            0        0   \n",
              "2454                 -1              -1                            1        0   \n",
              "2455                  0               1                            0        0   \n",
              "\n",
              "      port  HTTPS_token  ...  RightClick  Iframe  age_of_domain  DNSRecord  \\\n",
              "0        0            1  ...           0       0             -1          1   \n",
              "1        0            1  ...           0       0             -1          1   \n",
              "2        0            1  ...           0       0              0          1   \n",
              "3        0            1  ...           0       0             -1          1   \n",
              "4        0            0  ...           0       0             -1          1   \n",
              "...    ...          ...  ...         ...     ...            ...        ...   \n",
              "2451     0            0  ...           0       0             -1          0   \n",
              "2452     0            0  ...           0       0              0          1   \n",
              "2453     0            0  ...           0       0             -1          0   \n",
              "2454     0            0  ...           0       0              1          0   \n",
              "2455     0            0  ...           0       0             -1          0   \n",
              "\n",
              "      web_traffic  Page_Rank  Google_Index  Links_pointing_to_page  \\\n",
              "0              -1         -1             0                       1   \n",
              "1               0         -1             0                       1   \n",
              "2               1         -1             0                       0   \n",
              "3               1         -1             0                      -1   \n",
              "4               0         -1             0                       1   \n",
              "...           ...        ...           ...                     ...   \n",
              "2451            1          0             0                       0   \n",
              "2452           -1          0             0                       1   \n",
              "2453            1          0             0                       0   \n",
              "2454           -1         -1             0                       0   \n",
              "2455            1          1             0                       0   \n",
              "\n",
              "      Statistical_report  Result  \n",
              "0                      1       1  \n",
              "1                      0       1  \n",
              "2                      1       1  \n",
              "3                      0       1  \n",
              "4                      0       0  \n",
              "...                  ...     ...  \n",
              "2451                   0       1  \n",
              "2452                   0       1  \n",
              "2453                   0       0  \n",
              "2454                   0       1  \n",
              "2455                   0       0  \n",
              "\n",
              "[2456 rows x 26 columns]"
            ]
          },
          "execution_count": 344,
          "metadata": {},
          "output_type": "execute_result"
        }
      ],
      "source": [
        "# Drop columns \n",
        "df_new=df.drop(df[to_drop], axis=1)\n",
        "df_new"
      ]
    },
    {
      "cell_type": "markdown",
      "metadata": {
        "colab_type": "text",
        "id": "9cbVPMe8NxFN"
      },
      "source": [
        "## **5. EDA and Data_cleaning**\n",
        "Here, we clean the data by applying data cleaning techniques and transform the data to use it in the models."
      ]
    },
    {
      "cell_type": "code",
      "execution_count": 345,
      "metadata": {
        "colab": {
          "base_uri": "https://localhost:8080/",
          "height": 307
        },
        "colab_type": "code",
        "id": "b_HKPelgnmf8",
        "outputId": "f9fb9a1b-0ddc-470a-f4c0-db248a1a94f3"
      },
      "outputs": [
        {
          "data": {
            "text/html": [
              "<div>\n",
              "<style scoped>\n",
              "    .dataframe tbody tr th:only-of-type {\n",
              "        vertical-align: middle;\n",
              "    }\n",
              "\n",
              "    .dataframe tbody tr th {\n",
              "        vertical-align: top;\n",
              "    }\n",
              "\n",
              "    .dataframe thead th {\n",
              "        text-align: right;\n",
              "    }\n",
              "</style>\n",
              "<table border=\"1\" class=\"dataframe\">\n",
              "  <thead>\n",
              "    <tr style=\"text-align: right;\">\n",
              "      <th></th>\n",
              "      <th>having_IP_Address</th>\n",
              "      <th>URL_Length</th>\n",
              "      <th>having_At_Symbol</th>\n",
              "      <th>Prefix_Suffix</th>\n",
              "      <th>having_Sub_Domain</th>\n",
              "      <th>SSLfinal_State</th>\n",
              "      <th>Domain_registeration_length</th>\n",
              "      <th>Favicon</th>\n",
              "      <th>port</th>\n",
              "      <th>HTTPS_token</th>\n",
              "      <th>...</th>\n",
              "      <th>RightClick</th>\n",
              "      <th>Iframe</th>\n",
              "      <th>age_of_domain</th>\n",
              "      <th>DNSRecord</th>\n",
              "      <th>web_traffic</th>\n",
              "      <th>Page_Rank</th>\n",
              "      <th>Google_Index</th>\n",
              "      <th>Links_pointing_to_page</th>\n",
              "      <th>Statistical_report</th>\n",
              "      <th>Result</th>\n",
              "    </tr>\n",
              "  </thead>\n",
              "  <tbody>\n",
              "    <tr>\n",
              "      <th>count</th>\n",
              "      <td>2456.000000</td>\n",
              "      <td>2456.000000</td>\n",
              "      <td>2456.000000</td>\n",
              "      <td>2456.000000</td>\n",
              "      <td>2456.000000</td>\n",
              "      <td>2456.000000</td>\n",
              "      <td>2456.000000</td>\n",
              "      <td>2456.000000</td>\n",
              "      <td>2456.000000</td>\n",
              "      <td>2456.000000</td>\n",
              "      <td>...</td>\n",
              "      <td>2456.000000</td>\n",
              "      <td>2456.000000</td>\n",
              "      <td>2456.000000</td>\n",
              "      <td>2456.000000</td>\n",
              "      <td>2456.000000</td>\n",
              "      <td>2456.000000</td>\n",
              "      <td>2456.000000</td>\n",
              "      <td>2456.000000</td>\n",
              "      <td>2456.000000</td>\n",
              "      <td>2456.000000</td>\n",
              "    </tr>\n",
              "    <tr>\n",
              "      <th>mean</th>\n",
              "      <td>0.113192</td>\n",
              "      <td>-0.649837</td>\n",
              "      <td>0.054560</td>\n",
              "      <td>-0.254886</td>\n",
              "      <td>-0.185668</td>\n",
              "      <td>0.255700</td>\n",
              "      <td>0.018730</td>\n",
              "      <td>0.189739</td>\n",
              "      <td>0.135179</td>\n",
              "      <td>0.160423</td>\n",
              "      <td>...</td>\n",
              "      <td>0.042345</td>\n",
              "      <td>0.092020</td>\n",
              "      <td>-0.003257</td>\n",
              "      <td>0.536645</td>\n",
              "      <td>0.304560</td>\n",
              "      <td>-0.540717</td>\n",
              "      <td>0.139658</td>\n",
              "      <td>0.344463</td>\n",
              "      <td>0.179153</td>\n",
              "      <td>0.445440</td>\n",
              "    </tr>\n",
              "    <tr>\n",
              "      <th>std</th>\n",
              "      <td>0.316892</td>\n",
              "      <td>0.752690</td>\n",
              "      <td>0.227166</td>\n",
              "      <td>0.676170</td>\n",
              "      <td>0.802068</td>\n",
              "      <td>0.912332</td>\n",
              "      <td>0.798455</td>\n",
              "      <td>0.392175</td>\n",
              "      <td>0.341984</td>\n",
              "      <td>0.367073</td>\n",
              "      <td>...</td>\n",
              "      <td>0.201417</td>\n",
              "      <td>0.289112</td>\n",
              "      <td>0.939726</td>\n",
              "      <td>0.498757</td>\n",
              "      <td>0.834146</td>\n",
              "      <td>0.757832</td>\n",
              "      <td>0.346702</td>\n",
              "      <td>0.568911</td>\n",
              "      <td>0.383559</td>\n",
              "      <td>0.497115</td>\n",
              "    </tr>\n",
              "    <tr>\n",
              "      <th>min</th>\n",
              "      <td>0.000000</td>\n",
              "      <td>-1.000000</td>\n",
              "      <td>0.000000</td>\n",
              "      <td>-1.000000</td>\n",
              "      <td>-1.000000</td>\n",
              "      <td>-1.000000</td>\n",
              "      <td>-1.000000</td>\n",
              "      <td>0.000000</td>\n",
              "      <td>0.000000</td>\n",
              "      <td>0.000000</td>\n",
              "      <td>...</td>\n",
              "      <td>0.000000</td>\n",
              "      <td>0.000000</td>\n",
              "      <td>-1.000000</td>\n",
              "      <td>0.000000</td>\n",
              "      <td>-1.000000</td>\n",
              "      <td>-1.000000</td>\n",
              "      <td>0.000000</td>\n",
              "      <td>-1.000000</td>\n",
              "      <td>0.000000</td>\n",
              "      <td>0.000000</td>\n",
              "    </tr>\n",
              "    <tr>\n",
              "      <th>25%</th>\n",
              "      <td>0.000000</td>\n",
              "      <td>-1.000000</td>\n",
              "      <td>0.000000</td>\n",
              "      <td>-1.000000</td>\n",
              "      <td>-1.000000</td>\n",
              "      <td>-1.000000</td>\n",
              "      <td>-1.000000</td>\n",
              "      <td>0.000000</td>\n",
              "      <td>0.000000</td>\n",
              "      <td>0.000000</td>\n",
              "      <td>...</td>\n",
              "      <td>0.000000</td>\n",
              "      <td>0.000000</td>\n",
              "      <td>-1.000000</td>\n",
              "      <td>0.000000</td>\n",
              "      <td>0.000000</td>\n",
              "      <td>-1.000000</td>\n",
              "      <td>0.000000</td>\n",
              "      <td>0.000000</td>\n",
              "      <td>0.000000</td>\n",
              "      <td>0.000000</td>\n",
              "    </tr>\n",
              "    <tr>\n",
              "      <th>50%</th>\n",
              "      <td>0.000000</td>\n",
              "      <td>-1.000000</td>\n",
              "      <td>0.000000</td>\n",
              "      <td>0.000000</td>\n",
              "      <td>0.000000</td>\n",
              "      <td>1.000000</td>\n",
              "      <td>0.000000</td>\n",
              "      <td>0.000000</td>\n",
              "      <td>0.000000</td>\n",
              "      <td>0.000000</td>\n",
              "      <td>...</td>\n",
              "      <td>0.000000</td>\n",
              "      <td>0.000000</td>\n",
              "      <td>0.000000</td>\n",
              "      <td>1.000000</td>\n",
              "      <td>1.000000</td>\n",
              "      <td>-1.000000</td>\n",
              "      <td>0.000000</td>\n",
              "      <td>0.000000</td>\n",
              "      <td>0.000000</td>\n",
              "      <td>0.000000</td>\n",
              "    </tr>\n",
              "    <tr>\n",
              "      <th>75%</th>\n",
              "      <td>0.000000</td>\n",
              "      <td>-1.000000</td>\n",
              "      <td>0.000000</td>\n",
              "      <td>0.000000</td>\n",
              "      <td>0.000000</td>\n",
              "      <td>1.000000</td>\n",
              "      <td>1.000000</td>\n",
              "      <td>0.000000</td>\n",
              "      <td>0.000000</td>\n",
              "      <td>0.000000</td>\n",
              "      <td>...</td>\n",
              "      <td>0.000000</td>\n",
              "      <td>0.000000</td>\n",
              "      <td>1.000000</td>\n",
              "      <td>1.000000</td>\n",
              "      <td>1.000000</td>\n",
              "      <td>0.000000</td>\n",
              "      <td>0.000000</td>\n",
              "      <td>1.000000</td>\n",
              "      <td>0.000000</td>\n",
              "      <td>1.000000</td>\n",
              "    </tr>\n",
              "    <tr>\n",
              "      <th>max</th>\n",
              "      <td>1.000000</td>\n",
              "      <td>1.000000</td>\n",
              "      <td>1.000000</td>\n",
              "      <td>1.000000</td>\n",
              "      <td>1.000000</td>\n",
              "      <td>1.000000</td>\n",
              "      <td>1.000000</td>\n",
              "      <td>1.000000</td>\n",
              "      <td>1.000000</td>\n",
              "      <td>1.000000</td>\n",
              "      <td>...</td>\n",
              "      <td>1.000000</td>\n",
              "      <td>1.000000</td>\n",
              "      <td>1.000000</td>\n",
              "      <td>1.000000</td>\n",
              "      <td>1.000000</td>\n",
              "      <td>1.000000</td>\n",
              "      <td>1.000000</td>\n",
              "      <td>1.000000</td>\n",
              "      <td>1.000000</td>\n",
              "      <td>1.000000</td>\n",
              "    </tr>\n",
              "  </tbody>\n",
              "</table>\n",
              "<p>8 rows × 26 columns</p>\n",
              "</div>"
            ],
            "text/plain": [
              "       having_IP_Address   URL_Length  having_At_Symbol  Prefix_Suffix  \\\n",
              "count        2456.000000  2456.000000       2456.000000    2456.000000   \n",
              "mean            0.113192    -0.649837          0.054560      -0.254886   \n",
              "std             0.316892     0.752690          0.227166       0.676170   \n",
              "min             0.000000    -1.000000          0.000000      -1.000000   \n",
              "25%             0.000000    -1.000000          0.000000      -1.000000   \n",
              "50%             0.000000    -1.000000          0.000000       0.000000   \n",
              "75%             0.000000    -1.000000          0.000000       0.000000   \n",
              "max             1.000000     1.000000          1.000000       1.000000   \n",
              "\n",
              "       having_Sub_Domain  SSLfinal_State  Domain_registeration_length  \\\n",
              "count        2456.000000     2456.000000                  2456.000000   \n",
              "mean           -0.185668        0.255700                     0.018730   \n",
              "std             0.802068        0.912332                     0.798455   \n",
              "min            -1.000000       -1.000000                    -1.000000   \n",
              "25%            -1.000000       -1.000000                    -1.000000   \n",
              "50%             0.000000        1.000000                     0.000000   \n",
              "75%             0.000000        1.000000                     1.000000   \n",
              "max             1.000000        1.000000                     1.000000   \n",
              "\n",
              "           Favicon         port  HTTPS_token  ...   RightClick       Iframe  \\\n",
              "count  2456.000000  2456.000000  2456.000000  ...  2456.000000  2456.000000   \n",
              "mean      0.189739     0.135179     0.160423  ...     0.042345     0.092020   \n",
              "std       0.392175     0.341984     0.367073  ...     0.201417     0.289112   \n",
              "min       0.000000     0.000000     0.000000  ...     0.000000     0.000000   \n",
              "25%       0.000000     0.000000     0.000000  ...     0.000000     0.000000   \n",
              "50%       0.000000     0.000000     0.000000  ...     0.000000     0.000000   \n",
              "75%       0.000000     0.000000     0.000000  ...     0.000000     0.000000   \n",
              "max       1.000000     1.000000     1.000000  ...     1.000000     1.000000   \n",
              "\n",
              "       age_of_domain    DNSRecord  web_traffic    Page_Rank  Google_Index  \\\n",
              "count    2456.000000  2456.000000  2456.000000  2456.000000   2456.000000   \n",
              "mean       -0.003257     0.536645     0.304560    -0.540717      0.139658   \n",
              "std         0.939726     0.498757     0.834146     0.757832      0.346702   \n",
              "min        -1.000000     0.000000    -1.000000    -1.000000      0.000000   \n",
              "25%        -1.000000     0.000000     0.000000    -1.000000      0.000000   \n",
              "50%         0.000000     1.000000     1.000000    -1.000000      0.000000   \n",
              "75%         1.000000     1.000000     1.000000     0.000000      0.000000   \n",
              "max         1.000000     1.000000     1.000000     1.000000      1.000000   \n",
              "\n",
              "       Links_pointing_to_page  Statistical_report       Result  \n",
              "count             2456.000000         2456.000000  2456.000000  \n",
              "mean                 0.344463            0.179153     0.445440  \n",
              "std                  0.568911            0.383559     0.497115  \n",
              "min                 -1.000000            0.000000     0.000000  \n",
              "25%                  0.000000            0.000000     0.000000  \n",
              "50%                  0.000000            0.000000     0.000000  \n",
              "75%                  1.000000            0.000000     1.000000  \n",
              "max                  1.000000            1.000000     1.000000  \n",
              "\n",
              "[8 rows x 26 columns]"
            ]
          },
          "execution_count": 345,
          "metadata": {},
          "output_type": "execute_result"
        }
      ],
      "source": [
        "df_new.describe()"
      ]
    },
    {
      "cell_type": "markdown",
      "metadata": {
        "colab_type": "text",
        "id": "peN2Q-WdowNL"
      },
      "source": [
        "We have 30 features & a target column."
      ]
    },
    {
      "cell_type": "code",
      "execution_count": 346,
      "metadata": {
        "colab": {
          "base_uri": "https://localhost:8080/",
          "height": 317
        },
        "colab_type": "code",
        "id": "iGO3nWV1nvW1",
        "outputId": "f9cc1bae-b91b-483d-a1ca-44aea204dae5"
      },
      "outputs": [
        {
          "data": {
            "text/plain": [
              "False"
            ]
          },
          "execution_count": 346,
          "metadata": {},
          "output_type": "execute_result"
        }
      ],
      "source": [
        "# Check for null values\n",
        "df_new.isnull().values.any()"
      ]
    },
    {
      "cell_type": "markdown",
      "metadata": {
        "colab_type": "text",
        "id": "4FsQosd_nycx"
      },
      "source": [
        "From the above execution, it is clear that the data doesnot have any missing values.\n",
        "\n",
        "By this, the data is throughly preprocessed & is ready for training."
      ]
    },
    {
      "cell_type": "markdown",
      "metadata": {
        "colab_type": "text",
        "id": "Fs5hu2UR4SIF"
      },
      "source": [
        "## **6. Training_of_data**"
      ]
    },
    {
      "cell_type": "code",
      "execution_count": 347,
      "metadata": {
        "colab": {
          "base_uri": "https://localhost:8080/",
          "height": 33
        },
        "colab_type": "code",
        "id": "FzEU-wcLN8K7",
        "outputId": "534f9839-31e6-4b19-b469-c16db57fd5a9"
      },
      "outputs": [
        {
          "data": {
            "text/plain": [
              "((2456, 25), (2456,))"
            ]
          },
          "execution_count": 347,
          "metadata": {},
          "output_type": "execute_result"
        }
      ],
      "source": [
        "# Sepratating & assigning features and target columns to X & y\n",
        "X = df_new.drop('Result',axis=1)\n",
        "Y = df_new['Result']\n",
        "X.shape, Y.shape"
      ]
    },
    {
      "cell_type": "code",
      "execution_count": 348,
      "metadata": {
        "colab": {
          "base_uri": "https://localhost:8080/",
          "height": 33
        },
        "colab_type": "code",
        "id": "84xKobSqAV3U",
        "outputId": "20c0a9f7-d20e-4176-f815-238727c44336"
      },
      "outputs": [
        {
          "data": {
            "text/plain": [
              "((1719, 25), (737, 25))"
            ]
          },
          "execution_count": 348,
          "metadata": {},
          "output_type": "execute_result"
        }
      ],
      "source": [
        "# Splitting the dataset into train and test sets: 70-30 split\n",
        "from sklearn.model_selection import train_test_split\n",
        "\n",
        "X_train, X_test, Y_train, Y_test = train_test_split(X, Y, test_size = 0.3, random_state = 12)\n",
        "X_train.shape, X_test.shape"
      ]
    },
    {
      "cell_type": "markdown",
      "metadata": {
        "colab_type": "text",
        "id": "ah9B035xOjs1"
      },
      "source": [
        "## **7. Random Forest Model**\n",
        "\n"
      ]
    },
    {
      "cell_type": "code",
      "execution_count": 349,
      "metadata": {
        "colab": {},
        "colab_type": "code",
        "id": "D5Tg_ei0-xPU"
      },
      "outputs": [],
      "source": [
        "#importing packages\n",
        "from sklearn.metrics import accuracy_score\n",
        "import itertools\n",
        "import sklearn.metrics as metrics\n",
        "from sklearn.metrics import classification_report, confusion_matrix, ConfusionMatrixDisplay"
      ]
    },
    {
      "cell_type": "code",
      "execution_count": 350,
      "metadata": {
        "colab": {},
        "colab_type": "code",
        "id": "DPBHdBikSXHv"
      },
      "outputs": [],
      "source": [
        "# Creating holders to store the model performance results\n",
        "#ML_Model = []\n",
        "accuracy = []\n",
        "precision = []\n",
        "recall=[]\n",
        "f1_score=[]\n",
        "\n",
        "\n",
        "#function to call for storing the results\n",
        "def storeResults(a,b,c,d):\n",
        "  #ML_Model.append(model)\n",
        "  accuracy.append(round(a, 3))\n",
        "  precision.append(round(b, 3))\n",
        "  recall.append(round(c, 3))\n",
        "  f1_score.append(round(d, 3))"
      ]
    },
    {
      "cell_type": "markdown",
      "metadata": {
        "colab_type": "text",
        "id": "LuDTMcmb-n5x"
      },
      "source": [
        "### **Random Forest Classifier**\n"
      ]
    },
    {
      "cell_type": "code",
      "execution_count": 351,
      "metadata": {
        "colab": {
          "base_uri": "https://localhost:8080/",
          "height": 150
        },
        "colab_type": "code",
        "id": "2fmB9rPSsR6y",
        "outputId": "27ddebf4-bee1-4eec-eb4e-995d4cdc08b2"
      },
      "outputs": [
        {
          "data": {
            "text/html": [
              "<style>#sk-container-id-26 {color: black;background-color: white;}#sk-container-id-26 pre{padding: 0;}#sk-container-id-26 div.sk-toggleable {background-color: white;}#sk-container-id-26 label.sk-toggleable__label {cursor: pointer;display: block;width: 100%;margin-bottom: 0;padding: 0.3em;box-sizing: border-box;text-align: center;}#sk-container-id-26 label.sk-toggleable__label-arrow:before {content: \"▸\";float: left;margin-right: 0.25em;color: #696969;}#sk-container-id-26 label.sk-toggleable__label-arrow:hover:before {color: black;}#sk-container-id-26 div.sk-estimator:hover label.sk-toggleable__label-arrow:before {color: black;}#sk-container-id-26 div.sk-toggleable__content {max-height: 0;max-width: 0;overflow: hidden;text-align: left;background-color: #f0f8ff;}#sk-container-id-26 div.sk-toggleable__content pre {margin: 0.2em;color: black;border-radius: 0.25em;background-color: #f0f8ff;}#sk-container-id-26 input.sk-toggleable__control:checked~div.sk-toggleable__content {max-height: 200px;max-width: 100%;overflow: auto;}#sk-container-id-26 input.sk-toggleable__control:checked~label.sk-toggleable__label-arrow:before {content: \"▾\";}#sk-container-id-26 div.sk-estimator input.sk-toggleable__control:checked~label.sk-toggleable__label {background-color: #d4ebff;}#sk-container-id-26 div.sk-label input.sk-toggleable__control:checked~label.sk-toggleable__label {background-color: #d4ebff;}#sk-container-id-26 input.sk-hidden--visually {border: 0;clip: rect(1px 1px 1px 1px);clip: rect(1px, 1px, 1px, 1px);height: 1px;margin: -1px;overflow: hidden;padding: 0;position: absolute;width: 1px;}#sk-container-id-26 div.sk-estimator {font-family: monospace;background-color: #f0f8ff;border: 1px dotted black;border-radius: 0.25em;box-sizing: border-box;margin-bottom: 0.5em;}#sk-container-id-26 div.sk-estimator:hover {background-color: #d4ebff;}#sk-container-id-26 div.sk-parallel-item::after {content: \"\";width: 100%;border-bottom: 1px solid gray;flex-grow: 1;}#sk-container-id-26 div.sk-label:hover label.sk-toggleable__label {background-color: #d4ebff;}#sk-container-id-26 div.sk-serial::before {content: \"\";position: absolute;border-left: 1px solid gray;box-sizing: border-box;top: 0;bottom: 0;left: 50%;z-index: 0;}#sk-container-id-26 div.sk-serial {display: flex;flex-direction: column;align-items: center;background-color: white;padding-right: 0.2em;padding-left: 0.2em;position: relative;}#sk-container-id-26 div.sk-item {position: relative;z-index: 1;}#sk-container-id-26 div.sk-parallel {display: flex;align-items: stretch;justify-content: center;background-color: white;position: relative;}#sk-container-id-26 div.sk-item::before, #sk-container-id-26 div.sk-parallel-item::before {content: \"\";position: absolute;border-left: 1px solid gray;box-sizing: border-box;top: 0;bottom: 0;left: 50%;z-index: -1;}#sk-container-id-26 div.sk-parallel-item {display: flex;flex-direction: column;z-index: 1;position: relative;background-color: white;}#sk-container-id-26 div.sk-parallel-item:first-child::after {align-self: flex-end;width: 50%;}#sk-container-id-26 div.sk-parallel-item:last-child::after {align-self: flex-start;width: 50%;}#sk-container-id-26 div.sk-parallel-item:only-child::after {width: 0;}#sk-container-id-26 div.sk-dashed-wrapped {border: 1px dashed gray;margin: 0 0.4em 0.5em 0.4em;box-sizing: border-box;padding-bottom: 0.4em;background-color: white;}#sk-container-id-26 div.sk-label label {font-family: monospace;font-weight: bold;display: inline-block;line-height: 1.2em;}#sk-container-id-26 div.sk-label-container {text-align: center;}#sk-container-id-26 div.sk-container {/* jupyter's `normalize.less` sets `[hidden] { display: none; }` but bootstrap.min.css set `[hidden] { display: none !important; }` so we also need the `!important` here to be able to override the default hidden behavior on the sphinx rendered scikit-learn.org. See: https://github.com/scikit-learn/scikit-learn/issues/21755 */display: inline-block !important;position: relative;}#sk-container-id-26 div.sk-text-repr-fallback {display: none;}</style><div id=\"sk-container-id-26\" class=\"sk-top-container\"><div class=\"sk-text-repr-fallback\"><pre>RandomForestClassifier()</pre><b>In a Jupyter environment, please rerun this cell to show the HTML representation or trust the notebook. <br />On GitHub, the HTML representation is unable to render, please try loading this page with nbviewer.org.</b></div><div class=\"sk-container\" hidden><div class=\"sk-item\"><div class=\"sk-estimator sk-toggleable\"><input class=\"sk-toggleable__control sk-hidden--visually\" id=\"sk-estimator-id-26\" type=\"checkbox\" checked><label for=\"sk-estimator-id-26\" class=\"sk-toggleable__label sk-toggleable__label-arrow\">RandomForestClassifier</label><div class=\"sk-toggleable__content\"><pre>RandomForestClassifier()</pre></div></div></div></div></div>"
            ],
            "text/plain": [
              "RandomForestClassifier()"
            ]
          },
          "execution_count": 351,
          "metadata": {},
          "output_type": "execute_result"
        }
      ],
      "source": [
        "# Random Forest model\n",
        "from sklearn.ensemble import RandomForestClassifier\n",
        "\n",
        "# instantiate the model\n",
        "forest = RandomForestClassifier(n_estimators=100)\n",
        "\n",
        "# fit the model \n",
        "forest.fit(X_train, Y_train)"
      ]
    },
    {
      "cell_type": "code",
      "execution_count": 352,
      "metadata": {
        "colab": {},
        "colab_type": "code",
        "id": "J1Qck-wrsabB"
      },
      "outputs": [],
      "source": [
        "#predicting the target value from the model for the samples\n",
        "Y_test_forest = forest.predict(X_test)\n",
        "Y_train_forest = forest.predict(X_train)"
      ]
    },
    {
      "cell_type": "markdown",
      "metadata": {
        "colab_type": "text",
        "id": "i8TybBPHT1ao"
      },
      "source": [
        "**Performance Evaluation:**"
      ]
    },
    {
      "cell_type": "code",
      "execution_count": 353,
      "metadata": {
        "colab": {
          "base_uri": "https://localhost:8080/",
          "height": 442
        },
        "colab_type": "code",
        "id": "m9GZGxvZ9jnB",
        "outputId": "465186a8-d622-4427-c148-9dff349b40eb"
      },
      "outputs": [
        {
          "data": {
            "image/png": "[encoded data removed]",
            "text/plain": [
              "<Figure size 648x504 with 1 Axes>"
            ]
          },
          "metadata": {
            "needs_background": "light"
          },
          "output_type": "display_data"
        }
      ],
      "source": [
        "#checking the feature improtance in the model\n",
        "plt.figure(figsize=(9,7))\n",
        "n_features = X_train.shape[1]\n",
        "plt.barh(range(n_features), forest.feature_importances_, align='center')\n",
        "plt.yticks(np.arange(n_features), X_train.columns)\n",
        "plt.xlabel(\"Feature importance\")\n",
        "plt.ylabel(\"Feature\")\n",
        "plt.show()"
      ]
    },
    {
      "cell_type": "code",
      "execution_count": 354,
      "metadata": {},
      "outputs": [
        {
          "name": "stdout",
          "output_type": "stream",
          "text": [
            "Confusion Matrix - Random Forest\n",
            "[[391  11]\n",
            " [  8 327]]\n"
          ]
        }
      ],
      "source": [
        "confusion_matrix_rf = confusion_matrix(Y_test, Y_test_forest)\n",
        "print(\"Confusion Matrix - Random Forest\")\n",
        "print(confusion_matrix_rf,)"
      ]
    },
    {
      "cell_type": "code",
      "execution_count": 355,
      "metadata": {},
      "outputs": [
        {
          "name": "stdout",
          "output_type": "stream",
          "text": [
            "tp,fp,tn,fn - Random Forest\n"
          ]
        }
      ],
      "source": [
        "print(\"tp,fp,tn,fn - Random Forest\")\n",
        "tn, fp, fn, tp = confusion_matrix(Y_test, Y_test_forest).ravel()\n",
        "\n",
        "accuracy_model  =(tp+tn)/(tp+tn+fp+fn)\n",
        "precision_score =(tp)/(tp+fp)\n",
        "recall_score  =(tp)/(tp+fn)\n",
        "f1 =2*(( precision_score * recall_score)/( precision_score + recall_score))"
      ]
    },
    {
      "cell_type": "code",
      "execution_count": 356,
      "metadata": {},
      "outputs": [
        {
          "name": "stdout",
          "output_type": "stream",
          "text": [
            "Classification Report - Random Forest\n",
            "              precision    recall  f1-score   support\n",
            "\n",
            "           0       0.98      0.97      0.98       402\n",
            "           1       0.97      0.98      0.97       335\n",
            "\n",
            "    accuracy                           0.97       737\n",
            "   macro avg       0.97      0.97      0.97       737\n",
            "weighted avg       0.97      0.97      0.97       737\n",
            "\n"
          ]
        }
      ],
      "source": [
        "classification_report_rf = classification_report(Y_test, Y_test_forest)\n",
        "print(\"Classification Report - Random Forest\")\n",
        "print(classification_report_rf)"
      ]
    },
    {
      "cell_type": "markdown",
      "metadata": {
        "colab_type": "text",
        "id": "t6U_BEF8W-FS"
      },
      "source": [
        "**Storing the results:**"
      ]
    },
    {
      "cell_type": "code",
      "execution_count": 359,
      "metadata": {
        "colab": {},
        "colab_type": "code",
        "id": "YNf4EXHUW-FU"
      },
      "outputs": [],
      "source": [
        "storeResults(accuracy_model,precision_score,recall_score,f1)"
      ]
    },
    {
      "cell_type": "markdown",
      "metadata": {
        "colab_type": "text",
        "id": "k3vsRppPv3rs"
      },
      "source": [
        "## **8. Accuracy of Models**\n",
        "Here we have listed the accuracy,Precision,Recall,F1-Score."
      ]
    },
    {
      "cell_type": "code",
      "execution_count": 360,
      "metadata": {
        "colab": {
          "base_uri": "https://localhost:8080/",
          "height": 227
        },
        "colab_type": "code",
        "id": "RkOSzcfsv8Xl",
        "outputId": "82b2e437-b210-4b83-c3a0-dc9c5f65f9e0"
      },
      "outputs": [
        {
          "data": {
            "text/html": [
              "<div>\n",
              "<style scoped>\n",
              "    .dataframe tbody tr th:only-of-type {\n",
              "        vertical-align: middle;\n",
              "    }\n",
              "\n",
              "    .dataframe tbody tr th {\n",
              "        vertical-align: top;\n",
              "    }\n",
              "\n",
              "    .dataframe thead th {\n",
              "        text-align: right;\n",
              "    }\n",
              "</style>\n",
              "<table border=\"1\" class=\"dataframe\">\n",
              "  <thead>\n",
              "    <tr style=\"text-align: right;\">\n",
              "      <th></th>\n",
              "      <th>Accuracy</th>\n",
              "      <th>Precision</th>\n",
              "      <th>Recall</th>\n",
              "      <th>F1-Score</th>\n",
              "    </tr>\n",
              "  </thead>\n",
              "  <tbody>\n",
              "    <tr>\n",
              "      <th>0</th>\n",
              "      <td>0.974</td>\n",
              "      <td>0.967</td>\n",
              "      <td>0.976</td>\n",
              "      <td>0.972</td>\n",
              "    </tr>\n",
              "  </tbody>\n",
              "</table>\n",
              "</div>"
            ],
            "text/plain": [
              "   Accuracy  Precision  Recall  F1-Score\n",
              "0     0.974      0.967   0.976     0.972"
            ]
          },
          "execution_count": 360,
          "metadata": {},
          "output_type": "execute_result"
        }
      ],
      "source": [
        "#creating dataframe\n",
        "results = pd.DataFrame({    \n",
        "    'Accuracy': accuracy,\n",
        "    'Precision': precision,\n",
        "    'Recall': recall,\n",
        "    'F1-Score': f1_score})\n",
        "results"
      ]
    },
    {
      "cell_type": "markdown",
      "metadata": {
        "colab_type": "text",
        "id": "5t9806vn601b"
      },
      "source": [
        "<br>Random Forest Classifier Gives accuracy of 0.974 which is pretty good.\n"
      ]
    }
  ],
  "metadata": {
    "colab": {
      "collapsed_sections": [],
      "name": "Phishing Website Detection.ipynb",
      "provenance": [],
      "toc_visible": true
    },
    "kernelspec": {
      "display_name": "Python 3.10.5 64-bit",
      "language": "python",
      "name": "python3"
    },
    "language_info": {
      "codemirror_mode": {
        "name": "ipython",
        "version": 3
      },
      "file_extension": ".py",
      "mimetype": "text/x-python",
      "name": "python",
      "nbconvert_exporter": "python",
      "pygments_lexer": "ipython3",
      "version": "3.10.5"
    },
    "vscode": {
      "interpreter": {
        "hash": "6f2fec2a2a6a900af9566e0039a6d766acbd52831ef00b8877c4a1433969d6bf"
      }
    }
  },
  "nbformat": 4,
  "nbformat_minor": 0
}
